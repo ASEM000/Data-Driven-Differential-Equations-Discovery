{
 "cells": [
  {
   "cell_type": "markdown",
   "metadata": {},
   "source": [
    "## DE discovery from data (ongoing project)"
   ]
  },
  {
   "cell_type": "markdown",
   "metadata": {},
   "source": [
    "## Data generation"
   ]
  },
  {
   "cell_type": "code",
   "execution_count": 2,
   "metadata": {},
   "outputs": [
    {
     "name": "stdout",
     "output_type": "stream",
     "text": [
      "Generate training data\n"
     ]
    },
    {
     "data": {
      "application/vnd.jupyter.widget-view+json": {
       "model_id": "a78a49ae80cd4753a74789bb0ac89aba",
       "version_major": 2,
       "version_minor": 0
      },
      "text/plain": [
       "HBox(children=(FloatProgress(value=0.0, max=1000.0), HTML(value='')))"
      ]
     },
     "metadata": {},
     "output_type": "display_data"
    },
    {
     "name": "stdout",
     "output_type": "stream",
     "text": [
      "\n",
      "Generate validation data\n"
     ]
    },
    {
     "data": {
      "application/vnd.jupyter.widget-view+json": {
       "model_id": "86b13be948d145e8a0613a07c323ccf9",
       "version_major": 2,
       "version_minor": 0
      },
      "text/plain": [
       "HBox(children=(FloatProgress(value=0.0), HTML(value='')))"
      ]
     },
     "metadata": {},
     "output_type": "display_data"
    },
    {
     "name": "stdout",
     "output_type": "stream",
     "text": [
      "\n"
     ]
    }
   ],
   "source": [
    "import tensorflow as tf\n",
    "import numpy as np\n",
    "from tqdm.notebook import tqdm\n",
    "\n",
    "def RK4n(odefun,ics,h,span,degree):\n",
    "    \n",
    "    N= int( (span[1]-span[0])/h )\n",
    "    \n",
    "    tY = np.zeros((N+1,degree+1),dtype='float64')\n",
    "    tY[0,1:] = ics\n",
    "    \n",
    "    \n",
    "    for  i in range(N):\n",
    "        tY[i+1,0] = tY[i,0] + h\n",
    "        k1= odefun(tY[i,0]       , tY[i,1:])\n",
    "        k2= odefun(tY[i,0] +(h/2), tY[i,1:] +(h*k1)/2 )\n",
    "        k3 = odefun(tY[i,0] +(h/2), tY[i,1:] +(h*k2)/2)\n",
    "        k4 = odefun(tY[i,0] +(h)  , tY[i,1:] +(h*k3))\n",
    "        tY[i+1,1:] = tY[i,1:] + h*(1/6) * (k1+2*k2+2*k3+k4)\n",
    "        \n",
    "    return tY[:,0],tY[:,1:]\n",
    "\n",
    "\n",
    "\n",
    "\n",
    "#training\n",
    "print('Generate training data')\n",
    "\n",
    "samples = 1000\n",
    "\n",
    "np.random.seed(0)\n",
    "train_xx = np.zeros((samples,1,50,50,1),dtype='float')\n",
    "train_yy = np.zeros((samples,1,1,3))\n",
    "d2_train = np.random.randint(low=-5,high=1,size=(samples,1,3)) - np.round(np.random.rand(samples,1,3),1)\n",
    "ic_train = np.random.randint(low=0,high=5,size=(samples,2))\n",
    "from functools import partial \n",
    "\n",
    "def partial_ode_fun(d4,x,y):\n",
    "        #candidate library\n",
    "        A = np.zeros((2,3))\n",
    "        A[0,1]=1;A[1] = d4\n",
    "        V = np.array([y[0],y[1],x]) \n",
    "        AV =np.matmul(A,V)\n",
    "        return AV\n",
    "\n",
    "for i in tqdm(range(samples)):\n",
    "    ode_fun = partial(partial_ode_fun,d2_train[i])\n",
    "    sol  = RK4n(ode_fun,ics=ic_train[i],h=1e-3,span=np.array([0,2.5]),degree =2)\n",
    "    train_xx[i] = ((sol[1][:-1,0])).reshape(1,50,50,1)\n",
    "    train_yy[i,0] = d2_train[i,-1]\n",
    "    \n",
    "\n",
    "\n",
    "#scaling\n",
    "\n",
    "x_min,x_max = np.min(train_xx),np.max(train_xx)\n",
    "train_x = (train_xx-x_min)/((x_max-x_min)+1e-3)\n",
    "\n",
    "y_min,y_max = np.min(train_yy),np.max(train_yy)\n",
    "train_y = (train_yy-y_min)/((y_max-y_min)+1e-3)\n",
    "\n",
    "\n",
    "#validation\n",
    "\n",
    "samples = 100\n",
    "np.random.seed(10)\n",
    "val_xx = np.zeros((samples,1,50,50,1),dtype='float')\n",
    "val_yy = np.zeros((samples,1,1,3))\n",
    "d2_val = np.random.randint(low=-5,high=1,size=(samples,1,3)) - np.round(np.random.rand(samples,1,3),1)\n",
    "ic_val = np.random.randint(low=0,high=5,size=(samples,2))\n",
    "\n",
    "print('Generate validation data')\n",
    "\n",
    "for i in tqdm(range(samples)):\n",
    "    ode_fun = partial(partial_ode_fun,d2_val[i])\n",
    "    sol  = RK4n(ode_fun,ics=ic_val[i],h=1e-3,span=np.array([0,2.5]),degree =2)\n",
    "    val_xx[i] = ((sol[1][:-1,0])).reshape(1,50,50,1)\n",
    "    val_yy[i,0] = d2_val[i,-1]\n",
    "    \n",
    "\n",
    "\n",
    "#scaling\n",
    "\n",
    "# x_min,x_max = np.min(train_xx),np.max(train_xx)\n",
    "val_x = (val_xx-x_min)/((x_max-x_min)+1e-3)\n",
    "\n",
    "# y_min,y_max = np.min(train_yy),np.max(train_yy)\n",
    "val_y = (val_yy-y_min)/((y_max-y_min)+1e-3)\n",
    "\n"
   ]
  },
  {
   "cell_type": "markdown",
   "metadata": {},
   "source": [
    "# Model"
   ]
  },
  {
   "cell_type": "code",
   "execution_count": 3,
   "metadata": {},
   "outputs": [],
   "source": [
    "from tensorflow.keras.layers import *\n",
    "from tensorflow.keras.models import Model\n",
    "from tensorflow.keras.optimizers import Adam\n",
    "import tensorflow\n",
    "\n",
    "def conv(x,f,k):\n",
    "    x = TimeDistributed(Conv2D(f,(k,k),strides=1,padding='same',kernel_initializer='glorot_uniform',activation=LeakyReLU()))(x)\n",
    "    return x\n",
    "    \n",
    "\n",
    "def dense_block(tensor, f, r,k):\n",
    "    for _ in range(r):\n",
    "        x = conv(tensor, f=4*f, k=1)\n",
    "        x = conv(x, f=f, k=k)\n",
    "        tensor = Concatenate()([tensor, x])\n",
    "    return tensor\n",
    "\n",
    "\n",
    "def transition(x,s):\n",
    "    ff = int(tensorflow.keras.backend.int_shape(x)[-1] * 0.5)\n",
    "    m0 = TimeDistributed(Conv2D(ff,(1,1),strides=2*s,padding='same',kernel_initializer='glorot_uniform',activation=LeakyReLU()))(x)\n",
    "    return m0\n",
    "\n",
    "def dfn():\n",
    "    \n",
    "    k=3\n",
    "    s=1;\n",
    "    LR=1e-4\n",
    "    \n",
    "    r1,r2,r3 = 2 , 4 ,8\n",
    "    f0,f1,f2,f3 = 128,32,32,32\n",
    "    l1,l2 = 128 ,64\n",
    "\n",
    "    x = Input(shape=(1,50,50, 1))\n",
    "    c0 = TimeDistributed(Conv2D(f0,(k,k),strides=1,padding='same',kernel_initializer='glorot_uniform',activation=LeakyReLU()))(x)\n",
    "########################################################################################################    \n",
    "    e1 = dense_block(c0,f1,r=r1,k=k);m1 = transition(e1,s)\n",
    "    e2 = dense_block(m1,f2,r=r2,k=k);m2 = transition(e2,s)\n",
    "    e3 = dense_block(m2,f3,r=r3,k=k);\n",
    "########################################################################################################\n",
    "    e = ConvLSTM2D(l1,(2,2),padding='same',return_sequences=True)(e3)\n",
    "    b = ConvLSTM2D(l2,(2,2),padding='same',return_sequences=True)(e)\n",
    "########################################################################################################\n",
    "    b = TimeDistributed(Flatten())(b)\n",
    "    d3 =TimeDistributed(Dense(3,activation='linear'))(b)\n",
    "    d3 =TimeDistributed(Reshape((1,3)))(d3)\n",
    "    model = Model(x,d3)\n",
    "    optimizer = Adam(learning_rate=LR)\n",
    "    model.compile(loss='mae',optimizer=optimizer,metrics=['mse'])\n",
    "    return model\n",
    "\n",
    "model = dfn()\n",
    "# model.summary()\n"
   ]
  },
  {
   "cell_type": "code",
   "execution_count": 54,
   "metadata": {},
   "outputs": [
    {
     "name": "stdout",
     "output_type": "stream",
     "text": [
      "Epoch 1/100\n",
      "32/32 [==============================] - 5s 159ms/step - loss: 0.0401 - mse: 0.0039 - val_loss: 0.0434 - val_mse: 0.0045\n",
      "Epoch 2/100\n",
      "32/32 [==============================] - 5s 157ms/step - loss: 0.0403 - mse: 0.0039 - val_loss: 0.0434 - val_mse: 0.0041\n",
      "Epoch 3/100\n",
      "32/32 [==============================] - 5s 155ms/step - loss: 0.0401 - mse: 0.0039 - val_loss: 0.0472 - val_mse: 0.0050\n",
      "Epoch 4/100\n",
      "32/32 [==============================] - 5s 154ms/step - loss: 0.0417 - mse: 0.0040 - val_loss: 0.0454 - val_mse: 0.0047\n",
      "Epoch 5/100\n",
      "32/32 [==============================] - 5s 157ms/step - loss: 0.0401 - mse: 0.0038 - val_loss: 0.0498 - val_mse: 0.0055\n",
      "Epoch 6/100\n",
      "32/32 [==============================] - ETA: 0s - loss: 0.0414 - mse: 0.0040\n",
      "Epoch 00006: ReduceLROnPlateau reducing learning rate to 1.249999968422344e-05.\n",
      "32/32 [==============================] - 5s 155ms/step - loss: 0.0414 - mse: 0.0040 - val_loss: 0.0436 - val_mse: 0.0043\n",
      "Epoch 7/100\n",
      "32/32 [==============================] - 5s 149ms/step - loss: 0.0382 - mse: 0.0036 - val_loss: 0.0436 - val_mse: 0.0045\n",
      "Epoch 8/100\n",
      "32/32 [==============================] - 5s 149ms/step - loss: 0.0380 - mse: 0.0036 - val_loss: 0.0434 - val_mse: 0.0044\n",
      "Epoch 9/100\n",
      "32/32 [==============================] - 5s 150ms/step - loss: 0.0374 - mse: 0.0036 - val_loss: 0.0460 - val_mse: 0.0050\n",
      "Epoch 10/100\n",
      "32/32 [==============================] - 5s 152ms/step - loss: 0.0375 - mse: 0.0036 - val_loss: 0.0440 - val_mse: 0.0045\n",
      "Epoch 11/100\n",
      "32/32 [==============================] - 5s 154ms/step - loss: 0.0376 - mse: 0.0035 - val_loss: 0.0451 - val_mse: 0.0044\n",
      "Epoch 12/100\n",
      "32/32 [==============================] - 5s 153ms/step - loss: 0.0376 - mse: 0.0035 - val_loss: 0.0419 - val_mse: 0.0042\n",
      "Epoch 13/100\n",
      "32/32 [==============================] - 5s 153ms/step - loss: 0.0380 - mse: 0.0036 - val_loss: 0.0459 - val_mse: 0.0048\n",
      "Epoch 14/100\n",
      "32/32 [==============================] - ETA: 0s - loss: 0.0377 - mse: 0.0036\n",
      "Epoch 00014: ReduceLROnPlateau reducing learning rate to 6.24999984211172e-06.\n",
      "32/32 [==============================] - 5s 152ms/step - loss: 0.0377 - mse: 0.0036 - val_loss: 0.0426 - val_mse: 0.0043\n",
      "Epoch 15/100\n",
      "32/32 [==============================] - 5s 151ms/step - loss: 0.0356 - mse: 0.0034 - val_loss: 0.0419 - val_mse: 0.0042\n",
      "Epoch 16/100\n",
      "32/32 [==============================] - 5s 152ms/step - loss: 0.0354 - mse: 0.0033 - val_loss: 0.0416 - val_mse: 0.0041\n",
      "Epoch 17/100\n",
      "32/32 [==============================] - 5s 153ms/step - loss: 0.0359 - mse: 0.0034 - val_loss: 0.0428 - val_mse: 0.0043\n",
      "Epoch 18/100\n",
      "32/32 [==============================] - 5s 153ms/step - loss: 0.0355 - mse: 0.0034 - val_loss: 0.0424 - val_mse: 0.0042\n",
      "Epoch 19/100\n",
      "32/32 [==============================] - 5s 152ms/step - loss: 0.0351 - mse: 0.0033 - val_loss: 0.0426 - val_mse: 0.0045\n",
      "Epoch 20/100\n",
      "32/32 [==============================] - 5s 153ms/step - loss: 0.0354 - mse: 0.0034 - val_loss: 0.0419 - val_mse: 0.0041\n",
      "Epoch 21/100\n",
      "32/32 [==============================] - 5s 152ms/step - loss: 0.0356 - mse: 0.0033 - val_loss: 0.0423 - val_mse: 0.0042\n",
      "Epoch 22/100\n",
      "32/32 [==============================] - 5s 154ms/step - loss: 0.0352 - mse: 0.0033 - val_loss: 0.0425 - val_mse: 0.0044\n",
      "Epoch 23/100\n",
      "32/32 [==============================] - 5s 153ms/step - loss: 0.0350 - mse: 0.0032 - val_loss: 0.0413 - val_mse: 0.0041\n",
      "Epoch 24/100\n",
      "32/32 [==============================] - ETA: 0s - loss: 0.0351 - mse: 0.0033\n",
      "Epoch 00024: ReduceLROnPlateau reducing learning rate to 3.12499992105586e-06.\n",
      "32/32 [==============================] - 5s 154ms/step - loss: 0.0351 - mse: 0.0033 - val_loss: 0.0412 - val_mse: 0.0040\n",
      "Epoch 25/100\n",
      "32/32 [==============================] - 5s 154ms/step - loss: 0.0345 - mse: 0.0032 - val_loss: 0.0421 - val_mse: 0.0042\n",
      "Epoch 26/100\n",
      "32/32 [==============================] - 5s 154ms/step - loss: 0.0341 - mse: 0.0032 - val_loss: 0.0415 - val_mse: 0.0041\n",
      "Epoch 27/100\n",
      "32/32 [==============================] - 5s 153ms/step - loss: 0.0344 - mse: 0.0033 - val_loss: 0.0420 - val_mse: 0.0042\n",
      "Epoch 28/100\n",
      "32/32 [==============================] - 5s 152ms/step - loss: 0.0344 - mse: 0.0032 - val_loss: 0.0427 - val_mse: 0.0044\n",
      "Epoch 29/100\n",
      "32/32 [==============================] - 5s 153ms/step - loss: 0.0343 - mse: 0.0032 - val_loss: 0.0418 - val_mse: 0.0042\n",
      "Epoch 30/100\n",
      "32/32 [==============================] - 5s 153ms/step - loss: 0.0341 - mse: 0.0032 - val_loss: 0.0414 - val_mse: 0.0041\n",
      "Epoch 31/100\n",
      "32/32 [==============================] - 5s 153ms/step - loss: 0.0339 - mse: 0.0032 - val_loss: 0.0414 - val_mse: 0.0042\n",
      "Epoch 32/100\n",
      "32/32 [==============================] - 5s 156ms/step - loss: 0.0341 - mse: 0.0032 - val_loss: 0.0413 - val_mse: 0.0042\n",
      "Epoch 33/100\n",
      "32/32 [==============================] - 5s 154ms/step - loss: 0.0347 - mse: 0.0032 - val_loss: 0.0415 - val_mse: 0.0041\n",
      "Epoch 34/100\n",
      "32/32 [==============================] - 5s 153ms/step - loss: 0.0339 - mse: 0.0032 - val_loss: 0.0414 - val_mse: 0.0042\n",
      "Epoch 35/100\n",
      "32/32 [==============================] - 5s 153ms/step - loss: 0.0341 - mse: 0.0032 - val_loss: 0.0416 - val_mse: 0.0042\n",
      "Epoch 36/100\n",
      "32/32 [==============================] - ETA: 0s - loss: 0.0339 - mse: 0.0032\n",
      "Epoch 00036: ReduceLROnPlateau reducing learning rate to 1.56249996052793e-06.\n",
      "32/32 [==============================] - 5s 154ms/step - loss: 0.0339 - mse: 0.0032 - val_loss: 0.0415 - val_mse: 0.0041\n",
      "Epoch 37/100\n",
      "32/32 [==============================] - 5s 154ms/step - loss: 0.0337 - mse: 0.0032 - val_loss: 0.0417 - val_mse: 0.0042\n",
      "Epoch 38/100\n",
      "32/32 [==============================] - 5s 152ms/step - loss: 0.0335 - mse: 0.0031 - val_loss: 0.0412 - val_mse: 0.0041\n",
      "Epoch 39/100\n",
      "32/32 [==============================] - 5s 152ms/step - loss: 0.0335 - mse: 0.0032 - val_loss: 0.0413 - val_mse: 0.0042\n",
      "Epoch 40/100\n",
      "32/32 [==============================] - 5s 153ms/step - loss: 0.0335 - mse: 0.0032 - val_loss: 0.0416 - val_mse: 0.0042\n",
      "Epoch 41/100\n",
      "32/32 [==============================] - 5s 157ms/step - loss: 0.0334 - mse: 0.0031 - val_loss: 0.0413 - val_mse: 0.0042\n",
      "Epoch 42/100\n",
      "32/32 [==============================] - 5s 158ms/step - loss: 0.0335 - mse: 0.0031 - val_loss: 0.0418 - val_mse: 0.0043\n",
      "Epoch 43/100\n",
      "32/32 [==============================] - ETA: 0s - loss: 0.0334 - mse: 0.0031\n",
      "Epoch 00043: ReduceLROnPlateau reducing learning rate to 7.81249980263965e-07.\n",
      "32/32 [==============================] - 5s 159ms/step - loss: 0.0334 - mse: 0.0031 - val_loss: 0.0416 - val_mse: 0.0042\n",
      "Epoch 44/100\n",
      "32/32 [==============================] - 5s 156ms/step - loss: 0.0335 - mse: 0.0031 - val_loss: 0.0414 - val_mse: 0.0042\n",
      "Epoch 45/100\n",
      "32/32 [==============================] - 5s 159ms/step - loss: 0.0333 - mse: 0.0031 - val_loss: 0.0415 - val_mse: 0.0042\n",
      "Epoch 46/100\n",
      "32/32 [==============================] - 5s 155ms/step - loss: 0.0332 - mse: 0.0031 - val_loss: 0.0413 - val_mse: 0.0042\n",
      "Epoch 47/100\n",
      "32/32 [==============================] - 5s 154ms/step - loss: 0.0332 - mse: 0.0031 - val_loss: 0.0413 - val_mse: 0.0042\n",
      "Epoch 48/100\n",
      "32/32 [==============================] - 5s 155ms/step - loss: 0.0332 - mse: 0.0031 - val_loss: 0.0413 - val_mse: 0.0042\n",
      "Epoch 49/100\n",
      "32/32 [==============================] - 5s 154ms/step - loss: 0.0333 - mse: 0.0031 - val_loss: 0.0413 - val_mse: 0.0041\n",
      "Epoch 50/100\n",
      "32/32 [==============================] - ETA: 0s - loss: 0.0332 - mse: 0.0031\n",
      "Epoch 00050: ReduceLROnPlateau reducing learning rate to 3.906249901319825e-07.\n",
      "32/32 [==============================] - 5s 154ms/step - loss: 0.0332 - mse: 0.0031 - val_loss: 0.0413 - val_mse: 0.0042\n",
      "Epoch 51/100\n",
      "32/32 [==============================] - 5s 156ms/step - loss: 0.0331 - mse: 0.0031 - val_loss: 0.0412 - val_mse: 0.0041\n",
      "Epoch 52/100\n",
      "32/32 [==============================] - 5s 156ms/step - loss: 0.0331 - mse: 0.0031 - val_loss: 0.0412 - val_mse: 0.0042\n",
      "Epoch 53/100\n",
      "32/32 [==============================] - 5s 155ms/step - loss: 0.0331 - mse: 0.0031 - val_loss: 0.0412 - val_mse: 0.0041\n",
      "Epoch 54/100\n",
      "32/32 [==============================] - 5s 155ms/step - loss: 0.0331 - mse: 0.0031 - val_loss: 0.0411 - val_mse: 0.0041\n",
      "Epoch 55/100\n",
      "32/32 [==============================] - 5s 153ms/step - loss: 0.0331 - mse: 0.0031 - val_loss: 0.0411 - val_mse: 0.0041\n",
      "Epoch 56/100\n",
      "32/32 [==============================] - ETA: 0s - loss: 0.0331 - mse: 0.0031\n",
      "Epoch 00056: ReduceLROnPlateau reducing learning rate to 1.9531249506599124e-07.\n",
      "32/32 [==============================] - 5s 160ms/step - loss: 0.0331 - mse: 0.0031 - val_loss: 0.0412 - val_mse: 0.0041\n",
      "Epoch 57/100\n",
      "32/32 [==============================] - 5s 155ms/step - loss: 0.0331 - mse: 0.0031 - val_loss: 0.0412 - val_mse: 0.0042\n",
      "Epoch 58/100\n",
      "32/32 [==============================] - 5s 159ms/step - loss: 0.0330 - mse: 0.0031 - val_loss: 0.0411 - val_mse: 0.0041\n",
      "Epoch 59/100\n",
      "32/32 [==============================] - 5s 155ms/step - loss: 0.0330 - mse: 0.0031 - val_loss: 0.0412 - val_mse: 0.0042\n",
      "Epoch 60/100\n",
      "32/32 [==============================] - 5s 156ms/step - loss: 0.0330 - mse: 0.0031 - val_loss: 0.0412 - val_mse: 0.0041\n",
      "Epoch 61/100\n",
      "32/32 [==============================] - 5s 155ms/step - loss: 0.0330 - mse: 0.0031 - val_loss: 0.0412 - val_mse: 0.0042\n",
      "Epoch 62/100\n",
      "32/32 [==============================] - 5s 153ms/step - loss: 0.0330 - mse: 0.0031 - val_loss: 0.0412 - val_mse: 0.0041\n",
      "Epoch 63/100\n",
      "32/32 [==============================] - 5s 154ms/step - loss: 0.0330 - mse: 0.0031 - val_loss: 0.0412 - val_mse: 0.0041\n",
      "Epoch 64/100\n",
      "32/32 [==============================] - 5s 156ms/step - loss: 0.0330 - mse: 0.0031 - val_loss: 0.0413 - val_mse: 0.0042\n",
      "Epoch 65/100\n",
      "32/32 [==============================] - ETA: 0s - loss: 0.0330 - mse: 0.0031\n",
      "Epoch 00065: ReduceLROnPlateau reducing learning rate to 9.765624753299562e-08.\n",
      "32/32 [==============================] - 5s 153ms/step - loss: 0.0330 - mse: 0.0031 - val_loss: 0.0411 - val_mse: 0.0041\n",
      "Epoch 66/100\n",
      "32/32 [==============================] - 5s 156ms/step - loss: 0.0330 - mse: 0.0031 - val_loss: 0.0412 - val_mse: 0.0042\n",
      "Epoch 67/100\n",
      "32/32 [==============================] - 5s 156ms/step - loss: 0.0330 - mse: 0.0031 - val_loss: 0.0411 - val_mse: 0.0041\n",
      "Epoch 68/100\n",
      "32/32 [==============================] - 5s 157ms/step - loss: 0.0330 - mse: 0.0031 - val_loss: 0.0412 - val_mse: 0.0042\n",
      "Epoch 69/100\n",
      "32/32 [==============================] - 5s 154ms/step - loss: 0.0330 - mse: 0.0031 - val_loss: 0.0411 - val_mse: 0.0042\n",
      "Epoch 70/100\n",
      "32/32 [==============================] - ETA: 0s - loss: 0.0330 - mse: 0.0031\n",
      "Epoch 00070: ReduceLROnPlateau reducing learning rate to 4.882812376649781e-08.\n",
      "32/32 [==============================] - 5s 156ms/step - loss: 0.0330 - mse: 0.0031 - val_loss: 0.0412 - val_mse: 0.0042\n",
      "Epoch 71/100\n",
      "32/32 [==============================] - 5s 157ms/step - loss: 0.0330 - mse: 0.0031 - val_loss: 0.0412 - val_mse: 0.0042\n",
      "Epoch 72/100\n",
      "32/32 [==============================] - 5s 159ms/step - loss: 0.0330 - mse: 0.0031 - val_loss: 0.0412 - val_mse: 0.0042\n",
      "Epoch 73/100\n",
      "32/32 [==============================] - 5s 161ms/step - loss: 0.0330 - mse: 0.0031 - val_loss: 0.0412 - val_mse: 0.0042\n",
      "Epoch 74/100\n",
      "32/32 [==============================] - 5s 165ms/step - loss: 0.0330 - mse: 0.0031 - val_loss: 0.0412 - val_mse: 0.0042\n",
      "Epoch 75/100\n",
      "32/32 [==============================] - ETA: 0s - loss: 0.0330 - mse: 0.0031\n",
      "Epoch 00075: ReduceLROnPlateau reducing learning rate to 2.4414061883248905e-08.\n",
      "32/32 [==============================] - 5s 158ms/step - loss: 0.0330 - mse: 0.0031 - val_loss: 0.0412 - val_mse: 0.0042\n",
      "Epoch 76/100\n",
      "32/32 [==============================] - 5s 159ms/step - loss: 0.0330 - mse: 0.0031 - val_loss: 0.0412 - val_mse: 0.0042\n",
      "Epoch 77/100\n",
      "32/32 [==============================] - 5s 155ms/step - loss: 0.0330 - mse: 0.0031 - val_loss: 0.0412 - val_mse: 0.0042\n",
      "Epoch 78/100\n",
      "32/32 [==============================] - 5s 157ms/step - loss: 0.0330 - mse: 0.0031 - val_loss: 0.0412 - val_mse: 0.0042\n",
      "Epoch 79/100\n",
      "32/32 [==============================] - 5s 160ms/step - loss: 0.0330 - mse: 0.0031 - val_loss: 0.0411 - val_mse: 0.0042\n",
      "Epoch 80/100\n",
      "32/32 [==============================] - ETA: 0s - loss: 0.0330 - mse: 0.0031\n",
      "Epoch 00080: ReduceLROnPlateau reducing learning rate to 1.2207030941624453e-08.\n",
      "32/32 [==============================] - 5s 155ms/step - loss: 0.0330 - mse: 0.0031 - val_loss: 0.0412 - val_mse: 0.0042\n",
      "Epoch 81/100\n",
      "32/32 [==============================] - 5s 154ms/step - loss: 0.0330 - mse: 0.0031 - val_loss: 0.0412 - val_mse: 0.0042\n",
      "Epoch 82/100\n",
      "32/32 [==============================] - 5s 157ms/step - loss: 0.0330 - mse: 0.0031 - val_loss: 0.0411 - val_mse: 0.0042\n",
      "Epoch 83/100\n",
      "32/32 [==============================] - 5s 157ms/step - loss: 0.0330 - mse: 0.0031 - val_loss: 0.0411 - val_mse: 0.0042\n",
      "Epoch 84/100\n",
      "32/32 [==============================] - 5s 156ms/step - loss: 0.0330 - mse: 0.0031 - val_loss: 0.0411 - val_mse: 0.0042\n",
      "Epoch 85/100\n",
      "32/32 [==============================] - ETA: 0s - loss: 0.0330 - mse: 0.0031\n",
      "Epoch 00085: ReduceLROnPlateau reducing learning rate to 1e-08.\n",
      "32/32 [==============================] - 5s 155ms/step - loss: 0.0330 - mse: 0.0031 - val_loss: 0.0411 - val_mse: 0.0042\n",
      "Epoch 86/100\n",
      "32/32 [==============================] - 5s 162ms/step - loss: 0.0330 - mse: 0.0031 - val_loss: 0.0411 - val_mse: 0.0042\n",
      "Epoch 87/100\n",
      "32/32 [==============================] - 5s 159ms/step - loss: 0.0330 - mse: 0.0031 - val_loss: 0.0411 - val_mse: 0.0042\n",
      "Epoch 88/100\n",
      "32/32 [==============================] - 5s 157ms/step - loss: 0.0330 - mse: 0.0031 - val_loss: 0.0411 - val_mse: 0.0042\n",
      "Epoch 89/100\n",
      "32/32 [==============================] - 5s 153ms/step - loss: 0.0330 - mse: 0.0031 - val_loss: 0.0411 - val_mse: 0.0042\n",
      "Epoch 90/100\n",
      "32/32 [==============================] - 5s 152ms/step - loss: 0.0330 - mse: 0.0031 - val_loss: 0.0411 - val_mse: 0.0042\n",
      "Epoch 91/100\n",
      "32/32 [==============================] - 5s 152ms/step - loss: 0.0330 - mse: 0.0031 - val_loss: 0.0411 - val_mse: 0.0042\n",
      "Epoch 92/100\n",
      "32/32 [==============================] - 5s 153ms/step - loss: 0.0330 - mse: 0.0031 - val_loss: 0.0411 - val_mse: 0.0042\n",
      "Epoch 93/100\n",
      "32/32 [==============================] - 5s 151ms/step - loss: 0.0330 - mse: 0.0031 - val_loss: 0.0411 - val_mse: 0.0042\n",
      "Epoch 94/100\n",
      "32/32 [==============================] - 5s 151ms/step - loss: 0.0330 - mse: 0.0031 - val_loss: 0.0411 - val_mse: 0.0042\n",
      "Epoch 95/100\n",
      "32/32 [==============================] - 5s 152ms/step - loss: 0.0330 - mse: 0.0031 - val_loss: 0.0411 - val_mse: 0.0042\n",
      "Epoch 96/100\n",
      "32/32 [==============================] - 5s 160ms/step - loss: 0.0330 - mse: 0.0031 - val_loss: 0.0411 - val_mse: 0.0042\n",
      "Epoch 97/100\n",
      "32/32 [==============================] - 5s 160ms/step - loss: 0.0330 - mse: 0.0031 - val_loss: 0.0411 - val_mse: 0.0042\n",
      "Epoch 98/100\n",
      "32/32 [==============================] - 5s 165ms/step - loss: 0.0330 - mse: 0.0031 - val_loss: 0.0411 - val_mse: 0.0042\n",
      "Epoch 99/100\n",
      "32/32 [==============================] - 5s 159ms/step - loss: 0.0330 - mse: 0.0031 - val_loss: 0.0411 - val_mse: 0.0042\n",
      "Epoch 100/100\n",
      "32/32 [==============================] - 5s 157ms/step - loss: 0.0330 - mse: 0.0031 - val_loss: 0.0412 - val_mse: 0.0042\n"
     ]
    },
    {
     "data": {
      "text/plain": [
       "<tensorflow.python.keras.callbacks.History at 0x12c3347adc8>"
      ]
     },
     "execution_count": 54,
     "metadata": {},
     "output_type": "execute_result"
    }
   ],
   "source": [
    "# csv_logger = tensorflow.keras.callbacks.CSVLogger('train step=10 12x12.log')\n",
    "# early_stopping = tensorflow.keras.callbacks.EarlyStopping(monitor='loss',min_delta=5e-5, patience=5, verbose=1, mode='auto',baseline=None, restore_best_weights=False)\n",
    "reduce_lr_callback = tensorflow.keras.callbacks.ReduceLROnPlateau(monitor = 'loss',factor = 0.5,patience = 5,verbose = 1,cooldown=1,min_delta = 1e-4,min_lr=1e-8 )\n",
    "# model_checkpoint_callback = tensorflow.keras.callbacks.ModelCheckpoint('step=100 12x12.h5', monitor='loss', verbose=1, save_best_only=False,save_weights_only=False, mode='auto', save_freq='epoch',)\n",
    "model.fit(train_x,train_y,\n",
    "          validation_data=(val_x,val_y),\n",
    "          epochs=100,\n",
    "          callbacks=[reduce_lr_callback],\n",
    "         )"
   ]
  },
  {
   "cell_type": "markdown",
   "metadata": {},
   "source": [
    "## View prediction"
   ]
  },
  {
   "cell_type": "code",
   "execution_count": 14,
   "metadata": {},
   "outputs": [],
   "source": [
    "from functools import partial \n",
    "\n",
    "def partial_ode_fun(d4,x,y):\n",
    "        #candidate library\n",
    "        A = np.zeros((2,3))\n",
    "        A[0,1]=1;A[1,:] = d4\n",
    "        V = np.array([y[0],y[1],x]) \n",
    "        AV =np.matmul(A,V)\n",
    "        return AV\n",
    "\n",
    "def solve_from_prediction(coeffs,ics):\n",
    "    ode_fun = partial(partial_ode_fun,coeffs)\n",
    "    sol  = RK4n(ode_fun,ics=ics,h=1e-3,span=np.array([0,2.5]),degree =2)\n",
    "    return ((sol[1][:-1,0]))\n",
    "\n",
    "# j = 120\n",
    "\n",
    "# coeffs = ( model.predict(train_x[[j]]) * ((y_max-y_min)+1e-3) ) + y_min\n",
    "# prediction = solve_from_prediction(coeffs[0,0,0])\n",
    "\n",
    "# plt.plot(prediction,'-r')\n",
    "# plt.plot(xx[j].reshape(-1,1))\n"
   ]
  },
  {
   "cell_type": "markdown",
   "metadata": {},
   "source": [
    "## Generate test samples"
   ]
  },
  {
   "cell_type": "code",
   "execution_count": 27,
   "metadata": {},
   "outputs": [],
   "source": [
    "import matplotlib.pyplot as plt\n",
    "# import torch\n",
    "import tensorflow\n",
    "import numpy as np\n",
    "import matplotlib as mpl\n",
    "mpl.rcParams.update({\n",
    "    \"text.usetex\": True,\n",
    "    \"font.family\": \"sans-serif\",\n",
    "    \"font.sans-serif\": [\"Helvetica\"]})\n",
    "\n",
    "mpl.rcParams['figure.dpi'] = 72\n",
    "mpl.rcParams.update({'font.size': 35})\n",
    "mpl.rcParams['axes.linewidth'] = 2\n",
    "from matplotlib import ticker\n",
    "formatter = ticker.ScalarFormatter(useMathText=True)\n",
    "formatter.set_scientific(True)"
   ]
  },
  {
   "cell_type": "code",
   "execution_count": 29,
   "metadata": {},
   "outputs": [
    {
     "name": "stdout",
     "output_type": "stream",
     "text": [
      "Generate test data\n"
     ]
    },
    {
     "data": {
      "application/vnd.jupyter.widget-view+json": {
       "model_id": "c1408ce77d034eba8b8480634b8376b4",
       "version_major": 2,
       "version_minor": 0
      },
      "text/plain": [
       "HBox(children=(FloatProgress(value=0.0, max=50.0), HTML(value='')))"
      ]
     },
     "metadata": {},
     "output_type": "display_data"
    },
    {
     "name": "stdout",
     "output_type": "stream",
     "text": [
      "\n"
     ]
    }
   ],
   "source": [
    "samples = 50\n",
    "np.random.seed(50)\n",
    "test_xx = np.zeros((samples,1,50,50,1),dtype='float')\n",
    "test_yy = np.zeros((samples,1,1,3))\n",
    "d2_test = np.random.randint(low=-5,high=1,size=(samples,1,3)) - np.round(np.random.rand(samples,1,3),1)\n",
    "ic_test = np.random.randint(low=0,high=5,size=(samples,2))\n",
    "\n",
    "print('Generate test data')\n",
    "\n",
    "for i in tqdm(range(samples)):\n",
    "    ode_fun = partial(partial_ode_fun,d2_test[i])\n",
    "    sol  = RK4n(ode_fun,ics=ic_test[i],h=1e-3,span=np.array([0,2.5]),degree =2)\n",
    "    test_xx[i] = ((sol[1][:-1,0])).reshape(1,50,50,1)\n",
    "    test_yy[i,0] = d2_test[i,-1]\n",
    "    \n",
    "\n",
    "\n",
    "#scaling\n",
    "\n",
    "x_min,x_max = np.min(train_xx),np.max(train_xx)\n",
    "test_x = (test_xx-x_min)/((x_max-x_min)+1e-3)\n",
    "\n",
    "y_min,y_max = np.min(train_yy),np.max(train_yy)\n",
    "test_y = (test_yy-y_min)/((y_max-y_min)+1e-3)"
   ]
  },
  {
   "cell_type": "markdown",
   "metadata": {},
   "source": [
    "## View test prediction"
   ]
  },
  {
   "cell_type": "code",
   "execution_count": 35,
   "metadata": {},
   "outputs": [],
   "source": [
    "import sklearn\n",
    "import sklearn.metrics"
   ]
  },
  {
   "cell_type": "code",
   "execution_count": 57,
   "metadata": {},
   "outputs": [
    {
     "data": {
      "text/plain": [
       "(50, 1, 50, 50, 1)"
      ]
     },
     "execution_count": 57,
     "metadata": {},
     "output_type": "execute_result"
    }
   ],
   "source": [
    "test_x.shape"
   ]
  },
  {
   "cell_type": "code",
   "execution_count": 84,
   "metadata": {},
   "outputs": [],
   "source": [
    "import matplotlib as mpl\n",
    "mpl.rcParams.update({\n",
    "    \"text.usetex\": True,\n",
    "    \"font.family\": \"sans-serif\",\n",
    "    \"font.sans-serif\": [\"Helvetica\"]})\n",
    "\n",
    "mpl.rcParams['figure.dpi'] = 100\n",
    "mpl.rcParams.update({'font.size': 20})\n",
    "mpl.rcParams['axes.linewidth'] = 2\n",
    "from matplotlib import ticker\n",
    "formatter = ticker.ScalarFormatter(useMathText=True)\n",
    "formatter.set_scientific(True)"
   ]
  },
  {
   "cell_type": "code",
   "execution_count": 164,
   "metadata": {},
   "outputs": [
    {
     "data": {
      "application/vnd.jupyter.widget-view+json": {
       "model_id": "2365cb65aa8546a3841dd679d2063e6c",
       "version_major": 2,
       "version_minor": 0
      },
      "text/plain": [
       "interactive(children=(IntSlider(value=0, description='j', max=49), Output()), _dom_classes=('widget-interact',…"
      ]
     },
     "metadata": {},
     "output_type": "display_data"
    }
   ],
   "source": [
    "from ipywidgets import IntSlider,interact\n",
    "from IPython.display import Math\n",
    "\n",
    "slider = IntSlider(low=0,max=samples-1,value=0)\n",
    "noise = 0.00\n",
    "\n",
    "np.random.seed(100)\n",
    "\n",
    "@interact(j=slider)\n",
    "def show(j):\n",
    "    \n",
    "    a,b,c = -d2_test[j][0]\n",
    "    \n",
    "    coeffs = ( model.predict(test_x[[j]]+np.random.rand(50,50,1)*noise) * ((y_max-y_min)+1e-3) ) + y_min\n",
    "    prediction = solve_from_prediction(coeffs[0,0,0],ic_test[j])\n",
    "    \n",
    "    k,l,m = -coeffs[0,0,0]\n",
    "#     l = np.round(l,2)\n",
    "    plt.figure(figsize=(15,5))\n",
    "    plt.subplot(2,1,1)\n",
    "    plt.plot(np.arange(0,2.5,1e-3),prediction,'--k')\n",
    "    plt.plot(np.arange(0,2.5,1e-3),test_xx[j].reshape(-1,1),'-r')\n",
    "    plt.xlabel('$x$');plt.ylabel('$y$')\n",
    "    MSE = sklearn.metrics.mean_squared_error(test_xx[j].reshape(-1,1),prediction)\n",
    "    plt.legend([f'$Prediction$','$RK4 \\ result$'])\n",
    "    plt.title('$Test \\ samples \\ prediction$')\n",
    "    \n",
    "    plt.subplot(2,1,2)\n",
    "    plt.yticks(np.arange(-6,12,1))\n",
    "    plt.text(0.1,8,'$correct \\  \\ \\   \\ \\ DE : {dy^2\\over dx^2} + $' + f'${b}$'  + '${dy\\over dx} + $' +f'${a} $'  + '${y} + $' +f'${c}$' '${x} + $' )\n",
    "    plt.text(0.1,4,'$predicted \\  DE : {dy^2\\over dx^2} + $' + f'${l}$'  + '${dy\\over dx} + $' +f'${k} $'  + '${y} + $' +f'${m}$' '${x}$' )\n",
    "    plt.text(0.1,0,f'$Nosie= \\ $' +  f'${noise*100}$' + f'$\\%$' )\n",
    "    plt.text(0.1,-4,f'$MSE= \\ $' +  f'${np.round(MSE*10**3,3)}e-3$'  )\n",
    "    plt.yticks([]);plt.xticks([])\n",
    "    \n",
    "\n",
    "    \n",
    "    "
   ]
  },
  {
   "cell_type": "markdown",
   "metadata": {},
   "source": [
    "## Test with sympy"
   ]
  },
  {
   "cell_type": "code",
   "execution_count": 47,
   "metadata": {},
   "outputs": [
    {
     "data": {
      "text/latex": [
       "$\\displaystyle 4.4 x + 2.4 y{\\left(x \\right)} + 5.6 \\frac{d}{d x} y{\\left(x \\right)} + \\frac{d^{2}}{d x^{2}} y{\\left(x \\right)}$"
      ],
      "text/plain": [
       "4.4*x + 2.4*y(x) + 5.6*Derivative(y(x), x) + Derivative(y(x), (x, 2))"
      ]
     },
     "execution_count": 47,
     "metadata": {},
     "output_type": "execute_result"
    }
   ],
   "source": [
    "import sympy as sp\n",
    "import numpy as np\n",
    "import matplotlib.pyplot as plt\n",
    "%matplotlib inline\n",
    "x =sp.symbols('x')\n",
    "y = sp.Function('y')\n",
    "#expression of DE\n",
    "\n",
    "j = 10\n",
    "\n",
    "a,b,c = -d2_train[j][0]\n",
    "\n",
    "expr = sp.Derivative(y(x),x,x) + b*sp.Derivative(y(x),x) + a* y(x)+c*x \n",
    "expr\n",
    "# solution of DE\n",
    "sol_exact= sp.dsolve(expr, y(x),\n",
    " ics={y(0):ic_train[j][0],\n",
    " y(x).diff(x).subs(x, 0): ic_train[j][1],\n",
    " })\n",
    "sol_exact_func=sp.lambdify(x,sol_exact.rhs)\n",
    "expr"
   ]
  },
  {
   "cell_type": "code",
   "execution_count": 46,
   "metadata": {},
   "outputs": [
    {
     "data": {
      "text/plain": [
       "array([[[-2.4, -5.6, -4.4]]])"
      ]
     },
     "execution_count": 46,
     "metadata": {},
     "output_type": "execute_result"
    }
   ],
   "source": [
    "train_yy[j]"
   ]
  },
  {
   "cell_type": "code",
   "execution_count": 53,
   "metadata": {},
   "outputs": [
    {
     "data": {
      "text/plain": [
       "<matplotlib.legend.Legend at 0x12c3b867988>"
      ]
     },
     "execution_count": 53,
     "metadata": {},
     "output_type": "execute_result"
    },
    {
     "data": {
      "image/png": "[encoded data removed]",
      "text/plain": [
       "<Figure size 1080x360 with 1 Axes>"
      ]
     },
     "metadata": {
      "needs_background": "light"
     },
     "output_type": "display_data"
    }
   ],
   "source": [
    "sympy_res = [ sol_exact_func(i) for i in np.arange(0,2.5,1e-3)]\n",
    "plt.figure(figsize=(15,5))\n",
    "plt.plot(np.arange(0,2.5,1e-3),sympy_res,'-r')\n",
    "plt.plot(np.arange(0,2.5,1e-3),train_xx[j].reshape(-1,1),'--k')\n",
    "plt.legend(['$Sympy$','$RK4$'])"
   ]
  }
 ],
 "metadata": {
  "kernelspec": {
   "display_name": "Python 3",
   "language": "python",
   "name": "python3"
  },
  "language_info": {
   "codemirror_mode": {
    "name": "ipython",
    "version": 3
   },
   "file_extension": ".py",
   "mimetype": "text/x-python",
   "name": "python",
   "nbconvert_exporter": "python",
   "pygments_lexer": "ipython3",
   "version": "3.7.7"
  }
 },
 "nbformat": 4,
 "nbformat_minor": 4
}
