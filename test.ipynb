{
 "cells": [
  {
   "cell_type": "markdown",
   "metadata": {},
   "source": [
    "## DE discovery from data (ongoing project)"
   ]
  },
  {
   "cell_type": "markdown",
   "metadata": {},
   "source": [
    "## Data generation"
   ]
  },
  {
   "cell_type": "code",
   "execution_count": 1,
   "metadata": {},
   "outputs": [
    {
     "name": "stdout",
     "output_type": "stream",
     "text": [
      "Generate training data\n"
     ]
    },
    {
     "data": {
      "application/vnd.jupyter.widget-view+json": {
       "model_id": "8ee350c7689741868243865e14e40c76",
       "version_major": 2,
       "version_minor": 0
      },
      "text/plain": [
       "HBox(children=(FloatProgress(value=0.0, max=5000.0), HTML(value='')))"
      ]
     },
     "metadata": {},
     "output_type": "display_data"
    },
    {
     "name": "stdout",
     "output_type": "stream",
     "text": [
      "\n",
      "Generate validation data\n"
     ]
    },
    {
     "data": {
      "application/vnd.jupyter.widget-view+json": {
       "model_id": "5c0fa04e0502400bae0b889ef4e3e5c7",
       "version_major": 2,
       "version_minor": 0
      },
      "text/plain": [
       "HBox(children=(FloatProgress(value=0.0), HTML(value='')))"
      ]
     },
     "metadata": {},
     "output_type": "display_data"
    },
    {
     "name": "stdout",
     "output_type": "stream",
     "text": [
      "\n"
     ]
    }
   ],
   "source": [
    "import tensorflow as tf\n",
    "import numpy as np\n",
    "from tqdm.notebook import tqdm\n",
    "\n",
    "def RK4n(odefun,ics,h,span,degree):\n",
    "    \n",
    "    N= int( (span[1]-span[0])/h )\n",
    "    \n",
    "    tY = np.zeros((N+1,degree+1),dtype='float64')\n",
    "    tY[0,1:] = ics\n",
    "    \n",
    "    \n",
    "    for  i in range(N):\n",
    "        tY[i+1,0] = tY[i,0] + h\n",
    "        k1= odefun(tY[i,0]       , tY[i,1:])\n",
    "        k2= odefun(tY[i,0] +(h/2), tY[i,1:] +(h*k1)/2 )\n",
    "        k3 = odefun(tY[i,0] +(h/2), tY[i,1:] +(h*k2)/2)\n",
    "        k4 = odefun(tY[i,0] +(h)  , tY[i,1:] +(h*k3))\n",
    "        tY[i+1,1:] = tY[i,1:] + h*(1/6) * (k1+2*k2+2*k3+k4)\n",
    "        \n",
    "    return tY[:,0],tY[:,1:]\n",
    "\n",
    "\n",
    "\n",
    "#training\n",
    "print('Generate training data')\n",
    "\n",
    "samples = 5000\n",
    "\n",
    "np.random.seed(0)\n",
    "train_xx = np.zeros((samples,1,50,50,1),dtype='float')\n",
    "train_yy = np.zeros((samples,1,1,3))\n",
    "d2_train = np.random.randint(low=-5,high=1,size=(samples,1,3)) - np.round(np.random.rand(samples,1,3),1)\n",
    "ic_train = np.random.randint(low=0,high=5,size=(samples,2))\n",
    "from functools import partial \n",
    "\n",
    "def partial_ode_fun(d4,x,y):\n",
    "        #candidate library\n",
    "        A = np.zeros((2,3))\n",
    "        A[0,1]=1;A[1] = d4\n",
    "        V = np.array([y[0],y[1],x]) \n",
    "        AV =np.matmul(A,V)\n",
    "        return AV\n",
    "\n",
    "for i in tqdm(range(samples)):\n",
    "    ode_fun = partial(partial_ode_fun,d2_train[i])\n",
    "    sol  = RK4n(ode_fun,ics=ic_train[i],h=1e-3,span=np.array([0,2.5]),degree =2)\n",
    "    train_xx[i] = ((sol[1][:-1,0])).reshape(1,50,50,1)\n",
    "    train_yy[i,0] = d2_train[i,-1]\n",
    "    \n",
    "\n",
    "\n",
    "#scaling\n",
    "\n",
    "x_min,x_max = np.min(train_xx),np.max(train_xx)\n",
    "train_x = (train_xx-x_min)/((x_max-x_min)+1e-3)\n",
    "\n",
    "y_min,y_max = np.min(train_yy),np.max(train_yy)\n",
    "train_y = (train_yy-y_min)/((y_max-y_min)+1e-3)\n",
    "\n",
    "\n",
    "#validation\n",
    "\n",
    "samples = 100\n",
    "np.random.seed(10)\n",
    "val_xx = np.zeros((samples,1,50,50,1),dtype='float')\n",
    "val_yy = np.zeros((samples,1,1,3))\n",
    "d2_val = np.random.randint(low=-5,high=1,size=(samples,1,3)) - np.round(np.random.rand(samples,1,3),1)\n",
    "ic_val = np.random.randint(low=0,high=5,size=(samples,2))\n",
    "\n",
    "print('Generate validation data')\n",
    "\n",
    "for i in tqdm(range(samples)):\n",
    "    ode_fun = partial(partial_ode_fun,d2_val[i])\n",
    "    sol  = RK4n(ode_fun,ics=ic_val[i],h=1e-3,span=np.array([0,2.5]),degree =2)\n",
    "    val_xx[i] = ((sol[1][:-1,0])).reshape(1,50,50,1)\n",
    "    val_yy[i,0] = d2_val[i,-1]\n",
    "    \n",
    "\n",
    "\n",
    "#scaling\n",
    "\n",
    "# x_min,x_max = np.min(train_xx),np.max(train_xx)\n",
    "val_x = (val_xx-x_min)/((x_max-x_min)+1e-3)\n",
    "\n",
    "# y_min,y_max = np.min(train_yy),np.max(train_yy)\n",
    "val_y = (val_yy-y_min)/((y_max-y_min)+1e-3)\n",
    "\n"
   ]
  },
  {
   "cell_type": "code",
   "execution_count": 11,
   "metadata": {},
   "outputs": [
    {
     "data": {
      "text/plain": [
       "(-12.355544507098106, 7.070181806946516, -6.0, 0.0)"
      ]
     },
     "execution_count": 11,
     "metadata": {},
     "output_type": "execute_result"
    }
   ],
   "source": [
    "x_min,x_max,y_min,y_max"
   ]
  },
  {
   "cell_type": "markdown",
   "metadata": {},
   "source": [
    "# Model"
   ]
  },
  {
   "cell_type": "code",
   "execution_count": 2,
   "metadata": {},
   "outputs": [],
   "source": [
    "from tensorflow.keras.layers import *\n",
    "from tensorflow.keras.models import Model\n",
    "from tensorflow.keras.optimizers import Adam\n",
    "import tensorflow\n",
    "\n",
    "def conv(x,f,k):\n",
    "    x = TimeDistributed(Conv2D(f,(k,k),strides=1,padding='same',kernel_initializer='glorot_uniform',activation=LeakyReLU()))(x)\n",
    "    return x\n",
    "    \n",
    "\n",
    "def dense_block(tensor, f, r,k):\n",
    "    for _ in range(r):\n",
    "        x = conv(tensor, f=4*f, k=1)\n",
    "        x = conv(x, f=f, k=k)\n",
    "        tensor = Concatenate()([tensor, x])\n",
    "    return tensor\n",
    "\n",
    "\n",
    "def transition(x,s):\n",
    "    ff = int(tensorflow.keras.backend.int_shape(x)[-1] * 0.5)\n",
    "    m0 = TimeDistributed(Conv2D(ff,(1,1),strides=2*s,padding='same',kernel_initializer='glorot_uniform',activation=LeakyReLU()))(x)\n",
    "    return m0\n",
    "\n",
    "def dfn():\n",
    "    \n",
    "    k=3\n",
    "    s=1;\n",
    "    LR=1e-4\n",
    "    \n",
    "    r1,r2,r3 = 2 , 4 ,8\n",
    "    f0,f1,f2,f3 = 128,32,32,32\n",
    "    l1,l2 = 128 ,64\n",
    "\n",
    "    x = Input(shape=(1,50,50, 1))\n",
    "    c0 = TimeDistributed(Conv2D(f0,(k,k),strides=1,padding='same',kernel_initializer='glorot_uniform',activation=LeakyReLU()))(x)\n",
    "########################################################################################################    \n",
    "    e1 = dense_block(c0,f1,r=r1,k=k);m1 = transition(e1,s)\n",
    "    e2 = dense_block(m1,f2,r=r2,k=k);m2 = transition(e2,s)\n",
    "    e3 = dense_block(m2,f3,r=r3,k=k);\n",
    "########################################################################################################\n",
    "    e = ConvLSTM2D(l1,(2,2),padding='same',return_sequences=True)(e3)\n",
    "    b = ConvLSTM2D(l2,(2,2),padding='same',return_sequences=True)(e)\n",
    "########################################################################################################\n",
    "    b = TimeDistributed(Flatten())(b)\n",
    "    d3 =TimeDistributed(Dense(3,activation='linear'))(b)\n",
    "    d3 =TimeDistributed(Reshape((1,3)))(d3)\n",
    "    model = Model(x,d3)\n",
    "    optimizer = Adam(learning_rate=LR)\n",
    "    model.compile(loss='mae',optimizer=optimizer,metrics=['mse'])\n",
    "    return model\n",
    "\n",
    "model = dfn()\n",
    "# model.summary()\n"
   ]
  },
  {
   "cell_type": "code",
   "execution_count": 5,
   "metadata": {},
   "outputs": [
    {
     "name": "stdout",
     "output_type": "stream",
     "text": [
      "Epoch 1/50\n",
      "157/157 [==============================] - ETA: 0s - loss: 0.0110 - mse: 7.2681e-04\n",
      "Epoch 00001: saving model to discover.h5\n",
      "157/157 [==============================] - 25s 160ms/step - loss: 0.0110 - mse: 7.2681e-04 - val_loss: 0.0129 - val_mse: 7.7711e-04\n",
      "Epoch 2/50\n",
      "157/157 [==============================] - ETA: 0s - loss: 0.0109 - mse: 7.1805e-04\n",
      "Epoch 00002: saving model to discover.h5\n",
      "157/157 [==============================] - 25s 160ms/step - loss: 0.0109 - mse: 7.1805e-04 - val_loss: 0.0118 - val_mse: 7.2925e-04\n",
      "Epoch 3/50\n",
      "157/157 [==============================] - ETA: 0s - loss: 0.0110 - mse: 7.0892e-04\n",
      "Epoch 00003: saving model to discover.h5\n",
      "157/157 [==============================] - 25s 161ms/step - loss: 0.0110 - mse: 7.0892e-04 - val_loss: 0.0118 - val_mse: 7.8521e-04\n",
      "Epoch 4/50\n",
      "157/157 [==============================] - ETA: 0s - loss: 0.0110 - mse: 7.2285e-04\n",
      "Epoch 00004: saving model to discover.h5\n",
      "157/157 [==============================] - 27s 171ms/step - loss: 0.0110 - mse: 7.2285e-04 - val_loss: 0.0117 - val_mse: 7.8404e-04\n",
      "Epoch 5/50\n",
      "157/157 [==============================] - ETA: 0s - loss: 0.0108 - mse: 7.1334e-04- ETA: 4s - loss: \n",
      "Epoch 00005: saving model to discover.h5\n",
      "157/157 [==============================] - 28s 178ms/step - loss: 0.0108 - mse: 7.1334e-04 - val_loss: 0.0121 - val_mse: 7.9846e-04\n",
      "Epoch 6/50\n",
      "157/157 [==============================] - ETA: 0s - loss: 0.0110 - mse: 7.2672e-04\n",
      "Epoch 00006: saving model to discover.h5\n",
      "157/157 [==============================] - 26s 165ms/step - loss: 0.0110 - mse: 7.2672e-04 - val_loss: 0.0120 - val_mse: 6.8118e-04\n",
      "Epoch 7/50\n",
      "157/157 [==============================] - ETA: 0s - loss: 0.0108 - mse: 7.1747e-04\n",
      "Epoch 00007: saving model to discover.h5\n",
      "157/157 [==============================] - 26s 163ms/step - loss: 0.0108 - mse: 7.1747e-04 - val_loss: 0.0117 - val_mse: 6.5392e-04\n",
      "Epoch 8/50\n",
      "157/157 [==============================] - ETA: 0s - loss: 0.0106 - mse: 7.0981e-04\n",
      "Epoch 00008: saving model to discover.h5\n",
      "157/157 [==============================] - 26s 163ms/step - loss: 0.0106 - mse: 7.0981e-04 - val_loss: 0.0120 - val_mse: 7.7102e-04\n",
      "Epoch 9/50\n",
      "157/157 [==============================] - ETA: 0s - loss: 0.0108 - mse: 7.2119e-04\n",
      "Epoch 00009: saving model to discover.h5\n",
      "157/157 [==============================] - 26s 164ms/step - loss: 0.0108 - mse: 7.2119e-04 - val_loss: 0.0120 - val_mse: 7.7668e-04\n",
      "Epoch 10/50\n",
      "157/157 [==============================] - ETA: 0s - loss: 0.0106 - mse: 7.0904e-04\n",
      "Epoch 00010: saving model to discover.h5\n",
      "157/157 [==============================] - 25s 162ms/step - loss: 0.0106 - mse: 7.0904e-04 - val_loss: 0.0121 - val_mse: 6.6866e-04\n",
      "Epoch 11/50\n",
      "157/157 [==============================] - ETA: 0s - loss: 0.0106 - mse: 7.0239e-04\n",
      "Epoch 00011: saving model to discover.h5\n",
      "157/157 [==============================] - 28s 180ms/step - loss: 0.0106 - mse: 7.0239e-04 - val_loss: 0.0116 - val_mse: 6.9915e-04\n",
      "Epoch 12/50\n",
      "157/157 [==============================] - ETA: 0s - loss: 0.0107 - mse: 7.0793e-04\n",
      "Epoch 00012: saving model to discover.h5\n",
      "157/157 [==============================] - 28s 178ms/step - loss: 0.0107 - mse: 7.0793e-04 - val_loss: 0.0117 - val_mse: 6.3666e-04\n",
      "Epoch 13/50\n",
      "157/157 [==============================] - ETA: 0s - loss: 0.0111 - mse: 7.2192e-04\n",
      "Epoch 00013: ReduceLROnPlateau reducing learning rate to 3.12499992105586e-06.\n",
      "\n",
      "Epoch 00013: saving model to discover.h5\n",
      "157/157 [==============================] - 28s 176ms/step - loss: 0.0111 - mse: 7.2192e-04 - val_loss: 0.0116 - val_mse: 6.7956e-04\n",
      "Epoch 14/50\n",
      "157/157 [==============================] - ETA: 0s - loss: 0.0100 - mse: 6.8011e-04\n",
      "Epoch 00014: saving model to discover.h5\n",
      "157/157 [==============================] - 25s 161ms/step - loss: 0.0100 - mse: 6.8011e-04 - val_loss: 0.0113 - val_mse: 6.5403e-04\n",
      "Epoch 15/50\n",
      "157/157 [==============================] - ETA: 0s - loss: 0.0100 - mse: 6.8264e-04\n",
      "Epoch 00015: saving model to discover.h5\n",
      "157/157 [==============================] - 25s 161ms/step - loss: 0.0100 - mse: 6.8264e-04 - val_loss: 0.0111 - val_mse: 6.7678e-04\n",
      "Epoch 16/50\n",
      "157/157 [==============================] - ETA: 0s - loss: 0.0099 - mse: 6.8171e-04\n",
      "Epoch 00016: saving model to discover.h5\n",
      "157/157 [==============================] - 26s 163ms/step - loss: 0.0099 - mse: 6.8171e-04 - val_loss: 0.0114 - val_mse: 6.9316e-04\n",
      "Epoch 17/50\n",
      "157/157 [==============================] - ETA: 0s - loss: 0.0099 - mse: 6.7829e-04\n",
      "Epoch 00017: saving model to discover.h5\n",
      "157/157 [==============================] - 26s 168ms/step - loss: 0.0099 - mse: 6.7829e-04 - val_loss: 0.0116 - val_mse: 6.6529e-04\n",
      "Epoch 18/50\n",
      "157/157 [==============================] - ETA: 0s - loss: 0.0100 - mse: 6.8556e-04\n",
      "Epoch 00018: saving model to discover.h5\n",
      "157/157 [==============================] - 28s 179ms/step - loss: 0.0100 - mse: 6.8556e-04 - val_loss: 0.0112 - val_mse: 6.8771e-04\n",
      "Epoch 19/50\n",
      "157/157 [==============================] - ETA: 0s - loss: 0.0100 - mse: 6.8216e-04\n",
      "Epoch 00019: saving model to discover.h5\n",
      "157/157 [==============================] - 31s 198ms/step - loss: 0.0100 - mse: 6.8216e-04 - val_loss: 0.0111 - val_mse: 6.7014e-04\n",
      "Epoch 20/50\n",
      "157/157 [==============================] - ETA: 0s - loss: 0.0098 - mse: 6.7005e-04\n",
      "Epoch 00020: saving model to discover.h5\n",
      "157/157 [==============================] - 27s 170ms/step - loss: 0.0098 - mse: 6.7005e-04 - val_loss: 0.0113 - val_mse: 6.4092e-04\n",
      "Epoch 21/50\n",
      "157/157 [==============================] - ETA: 0s - loss: 0.0099 - mse: 6.7283e-04\n",
      "Epoch 00021: saving model to discover.h5\n",
      "157/157 [==============================] - 25s 162ms/step - loss: 0.0099 - mse: 6.7283e-04 - val_loss: 0.0113 - val_mse: 6.7457e-04\n",
      "Epoch 22/50\n",
      "157/157 [==============================] - ETA: 0s - loss: 0.0098 - mse: 6.7430e-04\n",
      "Epoch 00022: ReduceLROnPlateau reducing learning rate to 1.56249996052793e-06.\n",
      "\n",
      "Epoch 00022: saving model to discover.h5\n",
      "157/157 [==============================] - 25s 162ms/step - loss: 0.0098 - mse: 6.7430e-04 - val_loss: 0.0111 - val_mse: 7.0767e-04\n",
      "Epoch 23/50\n",
      "157/157 [==============================] - ETA: 0s - loss: 0.0095 - mse: 6.5966e-04\n",
      "Epoch 00023: saving model to discover.h5\n",
      "157/157 [==============================] - 27s 169ms/step - loss: 0.0095 - mse: 6.5966e-04 - val_loss: 0.0106 - val_mse: 6.7225e-04\n",
      "Epoch 24/50\n",
      "157/157 [==============================] - ETA: 0s - loss: 0.0095 - mse: 6.5765e-04\n",
      "Epoch 00024: saving model to discover.h5\n",
      "157/157 [==============================] - 28s 176ms/step - loss: 0.0095 - mse: 6.5765e-04 - val_loss: 0.0106 - val_mse: 6.4586e-04\n",
      "Epoch 25/50\n",
      "157/157 [==============================] - ETA: 0s - loss: 0.0095 - mse: 6.5604e-04\n",
      "Epoch 00025: saving model to discover.h5\n",
      "157/157 [==============================] - 29s 187ms/step - loss: 0.0095 - mse: 6.5604e-04 - val_loss: 0.0108 - val_mse: 6.6185e-04\n",
      "Epoch 26/50\n",
      "157/157 [==============================] - ETA: 0s - loss: 0.0096 - mse: 6.5958e-04\n",
      "Epoch 00026: saving model to discover.h5\n",
      "157/157 [==============================] - 25s 159ms/step - loss: 0.0096 - mse: 6.5958e-04 - val_loss: 0.0107 - val_mse: 6.4847e-04\n",
      "Epoch 27/50\n",
      "157/157 [==============================] - ETA: 0s - loss: 0.0095 - mse: 6.5541e-04\n",
      "Epoch 00027: saving model to discover.h5\n",
      "157/157 [==============================] - 25s 160ms/step - loss: 0.0095 - mse: 6.5541e-04 - val_loss: 0.0107 - val_mse: 6.4552e-04\n",
      "Epoch 28/50\n",
      "157/157 [==============================] - ETA: 0s - loss: 0.0095 - mse: 6.6131e-04\n",
      "Epoch 00028: ReduceLROnPlateau reducing learning rate to 7.81249980263965e-07.\n",
      "\n",
      "Epoch 00028: saving model to discover.h5\n",
      "157/157 [==============================] - 26s 165ms/step - loss: 0.0095 - mse: 6.6131e-04 - val_loss: 0.0109 - val_mse: 6.6956e-04\n",
      "Epoch 29/50\n",
      "157/157 [==============================] - ETA: 0s - loss: 0.0093 - mse: 6.5328e-04\n",
      "Epoch 00029: saving model to discover.h5\n",
      "157/157 [==============================] - 26s 167ms/step - loss: 0.0093 - mse: 6.5328e-04 - val_loss: 0.0106 - val_mse: 6.6425e-04\n",
      "Epoch 30/50\n",
      "157/157 [==============================] - ETA: 0s - loss: 0.0093 - mse: 6.5073e-04- E\n",
      "Epoch 00030: saving model to discover.h5\n",
      "157/157 [==============================] - 29s 188ms/step - loss: 0.0093 - mse: 6.5073e-04 - val_loss: 0.0106 - val_mse: 6.6469e-04\n",
      "Epoch 31/50\n",
      "157/157 [==============================] - ETA: 0s - loss: 0.0093 - mse: 6.5214e-04\n",
      "Epoch 00031: saving model to discover.h5\n",
      "157/157 [==============================] - 27s 172ms/step - loss: 0.0093 - mse: 6.5214e-04 - val_loss: 0.0107 - val_mse: 6.4887e-04\n",
      "Epoch 32/50\n",
      "157/157 [==============================] - ETA: 0s - loss: 0.0093 - mse: 6.5197e-04\n",
      "Epoch 00032: saving model to discover.h5\n",
      "157/157 [==============================] - 25s 159ms/step - loss: 0.0093 - mse: 6.5197e-04 - val_loss: 0.0106 - val_mse: 6.4488e-04\n",
      "Epoch 33/50\n",
      "157/157 [==============================] - ETA: 0s - loss: 0.0093 - mse: 6.5506e-04\n",
      "Epoch 00033: saving model to discover.h5\n",
      "157/157 [==============================] - 25s 160ms/step - loss: 0.0093 - mse: 6.5506e-04 - val_loss: 0.0106 - val_mse: 6.5379e-04\n",
      "Epoch 34/50\n",
      "157/157 [==============================] - ETA: 0s - loss: 0.0093 - mse: 6.4701e-04\n",
      "Epoch 00034: ReduceLROnPlateau reducing learning rate to 3.906249901319825e-07.\n",
      "\n",
      "Epoch 00034: saving model to discover.h5\n",
      "157/157 [==============================] - 25s 162ms/step - loss: 0.0093 - mse: 6.4701e-04 - val_loss: 0.0106 - val_mse: 6.5834e-04\n",
      "Epoch 35/50\n",
      "157/157 [==============================] - ETA: 0s - loss: 0.0092 - mse: 6.5101e-04- ET\n",
      "Epoch 00035: saving model to discover.h5\n",
      "157/157 [==============================] - 29s 183ms/step - loss: 0.0092 - mse: 6.5101e-04 - val_loss: 0.0105 - val_mse: 6.5576e-04\n",
      "Epoch 36/50\n",
      "157/157 [==============================] - ETA: 0s - loss: 0.0092 - mse: 6.5179e-04\n",
      "Epoch 00036: saving model to discover.h5\n",
      "157/157 [==============================] - 30s 190ms/step - loss: 0.0092 - mse: 6.5179e-04 - val_loss: 0.0106 - val_mse: 6.6000e-04\n",
      "Epoch 37/50\n",
      "157/157 [==============================] - ETA: 0s - loss: 0.0092 - mse: 6.5143e-04\n",
      "Epoch 00037: saving model to discover.h5\n",
      "157/157 [==============================] - 28s 176ms/step - loss: 0.0092 - mse: 6.5143e-04 - val_loss: 0.0106 - val_mse: 6.5255e-04\n",
      "Epoch 38/50\n",
      "157/157 [==============================] - ETA: 0s - loss: 0.0092 - mse: 6.5065e-04\n",
      "Epoch 00038: saving model to discover.h5\n",
      "157/157 [==============================] - 25s 159ms/step - loss: 0.0092 - mse: 6.5065e-04 - val_loss: 0.0106 - val_mse: 6.5965e-04\n",
      "Epoch 39/50\n",
      "157/157 [==============================] - ETA: 0s - loss: 0.0092 - mse: 6.4910e-04\n",
      "Epoch 00039: saving model to discover.h5\n",
      "157/157 [==============================] - 25s 162ms/step - loss: 0.0092 - mse: 6.4910e-04 - val_loss: 0.0105 - val_mse: 6.5595e-04\n",
      "Epoch 40/50\n",
      "157/157 [==============================] - ETA: 0s - loss: 0.0092 - mse: 6.4828e-04\n",
      "Epoch 00040: ReduceLROnPlateau reducing learning rate to 1.9531249506599124e-07.\n",
      "\n",
      "Epoch 00040: saving model to discover.h5\n",
      "157/157 [==============================] - 25s 161ms/step - loss: 0.0092 - mse: 6.4828e-04 - val_loss: 0.0106 - val_mse: 6.6045e-04\n",
      "Epoch 41/50\n",
      "157/157 [==============================] - ETA: 0s - loss: 0.0091 - mse: 6.4674e-04\n",
      "Epoch 00041: saving model to discover.h5\n",
      "157/157 [==============================] - 29s 182ms/step - loss: 0.0091 - mse: 6.4674e-04 - val_loss: 0.0105 - val_mse: 6.4927e-04\n",
      "Epoch 42/50\n",
      "157/157 [==============================] - ETA: 0s - loss: 0.0091 - mse: 6.4642e-04\n",
      "Epoch 00042: saving model to discover.h5\n",
      "157/157 [==============================] - 30s 191ms/step - loss: 0.0091 - mse: 6.4642e-04 - val_loss: 0.0106 - val_mse: 6.4952e-04\n",
      "Epoch 43/50\n",
      "157/157 [==============================] - ETA: 0s - loss: 0.0091 - mse: 6.4838e-04\n",
      "Epoch 00043: saving model to discover.h5\n",
      "157/157 [==============================] - 25s 162ms/step - loss: 0.0091 - mse: 6.4838e-04 - val_loss: 0.0105 - val_mse: 6.5587e-04\n",
      "Epoch 44/50\n",
      "157/157 [==============================] - ETA: 0s - loss: 0.0091 - mse: 6.4655e-04\n",
      "Epoch 00044: saving model to discover.h5\n",
      "157/157 [==============================] - 25s 161ms/step - loss: 0.0091 - mse: 6.4655e-04 - val_loss: 0.0106 - val_mse: 6.5171e-04\n",
      "Epoch 45/50\n",
      "157/157 [==============================] - ETA: 0s - loss: 0.0091 - mse: 6.4772e-04\n",
      "Epoch 00045: ReduceLROnPlateau reducing learning rate to 9.765624753299562e-08.\n",
      "\n",
      "Epoch 00045: saving model to discover.h5\n",
      "157/157 [==============================] - 25s 162ms/step - loss: 0.0091 - mse: 6.4772e-04 - val_loss: 0.0105 - val_mse: 6.6476e-04\n",
      "Epoch 46/50\n",
      "157/157 [==============================] - ETA: 0s - loss: 0.0091 - mse: 6.4558e-04- ETA: 4s - l\n",
      "Epoch 00046: saving model to discover.h5\n",
      "157/157 [==============================] - 27s 172ms/step - loss: 0.0091 - mse: 6.4558e-04 - val_loss: 0.0105 - val_mse: 6.5347e-04\n",
      "Epoch 47/50\n",
      "157/157 [==============================] - ETA: 0s - loss: 0.0091 - mse: 6.4491e-04- ETA: 5s -\n",
      "Epoch 00047: saving model to discover.h5\n",
      "157/157 [==============================] - 28s 181ms/step - loss: 0.0091 - mse: 6.4491e-04 - val_loss: 0.0105 - val_mse: 6.4827e-04\n",
      "Epoch 48/50\n",
      "157/157 [==============================] - ETA: 0s - loss: 0.0091 - mse: 6.4551e-04\n",
      "Epoch 00048: saving model to discover.h5\n",
      "157/157 [==============================] - 29s 184ms/step - loss: 0.0091 - mse: 6.4551e-04 - val_loss: 0.0105 - val_mse: 6.5722e-04\n",
      "Epoch 49/50\n",
      "157/157 [==============================] - ETA: 0s - loss: 0.0091 - mse: 6.4677e-04\n",
      "Epoch 00049: saving model to discover.h5\n",
      "157/157 [==============================] - 25s 162ms/step - loss: 0.0091 - mse: 6.4677e-04 - val_loss: 0.0105 - val_mse: 6.5451e-04\n",
      "Epoch 50/50\n",
      "157/157 [==============================] - ETA: 0s - loss: 0.0091 - mse: 6.4580e-04\n",
      "Epoch 00050: ReduceLROnPlateau reducing learning rate to 4.882812376649781e-08.\n",
      "\n",
      "Epoch 00050: saving model to discover.h5\n",
      "157/157 [==============================] - 25s 160ms/step - loss: 0.0091 - mse: 6.4580e-04 - val_loss: 0.0105 - val_mse: 6.5322e-04\n"
     ]
    },
    {
     "data": {
      "text/plain": [
       "<tensorflow.python.keras.callbacks.History at 0x1e2abe54388>"
      ]
     },
     "execution_count": 5,
     "metadata": {},
     "output_type": "execute_result"
    }
   ],
   "source": [
    "csv_logger = tensorflow.keras.callbacks.CSVLogger('train.log')\n",
    "early_stopping = tensorflow.keras.callbacks.EarlyStopping(monitor='loss',min_delta=5e-5, patience=5, verbose=1, mode='auto',baseline=None, restore_best_weights=False)\n",
    "reduce_lr_callback = tensorflow.keras.callbacks.ReduceLROnPlateau(monitor = 'loss',factor = 0.5,patience = 5,verbose = 1,cooldown=1,min_delta = 1e-4,min_lr=1e-8 )\n",
    "model_checkpoint_callback = tensorflow.keras.callbacks.ModelCheckpoint('discover.h5', monitor='loss', verbose=1, save_best_only=False,save_weights_only=False, mode='auto', save_freq='epoch',)\n",
    "model.fit(train_x,train_y,\n",
    "          validation_data=(val_x,val_y),\n",
    "          epochs=50,\n",
    "          callbacks=[reduce_lr_callback,csv_logger,model_checkpoint_callback],\n",
    "         )"
   ]
  },
  {
   "cell_type": "code",
   "execution_count": 8,
   "metadata": {},
   "outputs": [],
   "source": []
  },
  {
   "cell_type": "markdown",
   "metadata": {},
   "source": [
    "## View prediction"
   ]
  },
  {
   "cell_type": "code",
   "execution_count": 17,
   "metadata": {},
   "outputs": [],
   "source": [
    "from functools import partial \n",
    "\n",
    "def partial_ode_fun(d4,x,y):\n",
    "        #candidate library\n",
    "        A = np.zeros((2,3))\n",
    "        A[0,1]=1;A[1,:] = d4\n",
    "        V = np.array([y[0],y[1],x]) \n",
    "        AV =np.matmul(A,V)\n",
    "        return AV\n",
    "\n",
    "def solve_from_prediction(coeffs,ics):\n",
    "    ode_fun = partial(partial_ode_fun,coeffs)\n",
    "    sol  = RK4n(ode_fun,ics=ics,h=1e-3,span=np.array([0,2.5]),degree =2)\n",
    "    return ((sol[1][:-1,0]))\n",
    "\n",
    "# j = 120\n",
    "\n",
    "# coeffs = ( model.predict(train_x[[j]]) * ((y_max-y_min)+1e-3) ) + y_min\n",
    "# prediction = solve_from_prediction(coeffs[0,0,0])\n",
    "\n",
    "# plt.plot(prediction,'-r')\n",
    "# plt.plot(xx[j].reshape(-1,1))\n"
   ]
  },
  {
   "cell_type": "markdown",
   "metadata": {},
   "source": [
    "## Generate test samples"
   ]
  },
  {
   "cell_type": "code",
   "execution_count": 9,
   "metadata": {},
   "outputs": [],
   "source": [
    "import matplotlib.pyplot as plt\n",
    "# import torch\n",
    "import tensorflow\n",
    "import numpy as np\n",
    "import matplotlib as mpl\n",
    "mpl.rcParams.update({\n",
    "    \"text.usetex\": True,\n",
    "    \"font.family\": \"sans-serif\",\n",
    "    \"font.sans-serif\": [\"Helvetica\"]})\n",
    "\n",
    "mpl.rcParams['figure.dpi'] = 72\n",
    "mpl.rcParams.update({'font.size': 35})\n",
    "mpl.rcParams['axes.linewidth'] = 2\n",
    "from matplotlib import ticker\n",
    "formatter = ticker.ScalarFormatter(useMathText=True)\n",
    "formatter.set_scientific(True)"
   ]
  },
  {
   "cell_type": "code",
   "execution_count": 12,
   "metadata": {},
   "outputs": [
    {
     "name": "stdout",
     "output_type": "stream",
     "text": [
      "Generate test data\n"
     ]
    },
    {
     "data": {
      "application/vnd.jupyter.widget-view+json": {
       "model_id": "ce2595787f634d058020f986080c1e82",
       "version_major": 2,
       "version_minor": 0
      },
      "text/plain": [
       "HBox(children=(FloatProgress(value=0.0, max=50.0), HTML(value='')))"
      ]
     },
     "metadata": {},
     "output_type": "display_data"
    },
    {
     "name": "stdout",
     "output_type": "stream",
     "text": [
      "\n"
     ]
    }
   ],
   "source": [
    "samples = 50\n",
    "np.random.seed(50)\n",
    "test_xx = np.zeros((samples,1,50,50,1),dtype='float')\n",
    "test_yy = np.zeros((samples,1,1,3))\n",
    "d2_test = np.random.randint(low=-5,high=1,size=(samples,1,3)) - np.round(np.random.rand(samples,1,3),1)\n",
    "ic_test = np.random.randint(low=0,high=5,size=(samples,2))\n",
    "\n",
    "prediction_model = tensorflow.keras.models.load_model('discover.h5',custom_objects={'LeakyReLU':LeakyReLU()})\n",
    "\n",
    "print('Generate test data')\n",
    "\n",
    "x_min,x_max,y_min,y_max = -12.355544507098106, 7.070181806946516, -6.0, 0.0\n",
    "\n",
    "\n",
    "for i in tqdm(range(samples)):\n",
    "    ode_fun = partial(partial_ode_fun,d2_test[i])\n",
    "    sol  = RK4n(ode_fun,ics=ic_test[i],h=1e-3,span=np.array([0,2.5]),degree =2)\n",
    "    test_xx[i] = ((sol[1][:-1,0])).reshape(1,50,50,1)\n",
    "    test_yy[i,0] = d2_test[i,-1]\n",
    "    \n",
    "\n",
    "\n",
    "#scaling\n",
    "\n",
    "x_min,x_max = np.min(train_xx),np.max(train_xx)\n",
    "test_x = (test_xx-x_min)/((x_max-x_min)+1e-3)\n",
    "\n",
    "y_min,y_max = np.min(train_yy),np.max(train_yy)\n",
    "test_y = (test_yy-y_min)/((y_max-y_min)+1e-3)"
   ]
  },
  {
   "cell_type": "markdown",
   "metadata": {},
   "source": [
    "## View test prediction"
   ]
  },
  {
   "cell_type": "code",
   "execution_count": 13,
   "metadata": {},
   "outputs": [],
   "source": [
    "import sklearn\n",
    "import sklearn.metrics"
   ]
  },
  {
   "cell_type": "code",
   "execution_count": 14,
   "metadata": {},
   "outputs": [
    {
     "data": {
      "text/plain": [
       "(50, 1, 50, 50, 1)"
      ]
     },
     "execution_count": 14,
     "metadata": {},
     "output_type": "execute_result"
    }
   ],
   "source": [
    "test_x.shape"
   ]
  },
  {
   "cell_type": "code",
   "execution_count": 15,
   "metadata": {},
   "outputs": [],
   "source": [
    "import matplotlib as mpl\n",
    "mpl.rcParams.update({\n",
    "    \"text.usetex\": True,\n",
    "    \"font.family\": \"sans-serif\",\n",
    "    \"font.sans-serif\": [\"Helvetica\"]})\n",
    "\n",
    "mpl.rcParams['figure.dpi'] = 100\n",
    "mpl.rcParams.update({'font.size': 20})\n",
    "mpl.rcParams['axes.linewidth'] = 2\n",
    "from matplotlib import ticker\n",
    "formatter = ticker.ScalarFormatter(useMathText=True)\n",
    "formatter.set_scientific(True)"
   ]
  },
  {
   "cell_type": "code",
   "execution_count": 31,
   "metadata": {},
   "outputs": [
    {
     "data": {
      "application/vnd.jupyter.widget-view+json": {
       "model_id": "7a62d0b706a6498ca95c0d5adb61a649",
       "version_major": 2,
       "version_minor": 0
      },
      "text/plain": [
       "interactive(children=(IntSlider(value=0, description='j', max=49), FloatSlider(value=0.0, description='noise',…"
      ]
     },
     "metadata": {},
     "output_type": "display_data"
    }
   ],
   "source": [
    "from ipywidgets import IntSlider,interact,FloatSlider\n",
    "from IPython.display import Math\n",
    "\n",
    "slider = IntSlider(min=0,max=samples-1,value=0)\n",
    "noise_slider = FloatSlider(min=0,max=1,step=0.01,value=0)\n",
    "noise = 0.00\n",
    "\n",
    "np.random.seed(100)\n",
    "\n",
    "@interact(j=slider,noise=noise_slider)\n",
    "def show(j,noise):\n",
    "    \n",
    "    a,b,c = -d2_test[j][0]\n",
    "    \n",
    "    coeffs = ( prediction_model.predict(test_x[[j]]+np.random.rand(50,50,1)*noise) * ((y_max-y_min)+1e-3) ) + y_min\n",
    "    prediction = solve_from_prediction(coeffs[0,0,0],ic_test[j])\n",
    "    \n",
    "    k,l,m = -coeffs[0,0,0]\n",
    "#     l = np.round(l,2)\n",
    "    plt.figure(figsize=(15,7))\n",
    "    plt.subplot(2,1,1)\n",
    "    plt.plot(np.arange(0,2.5,1e-3),prediction,'--k',linewidth=3)\n",
    "    plt.plot(np.arange(0,2.5,1e-3),test_xx[j].reshape(-1,1),'-r')\n",
    "    plt.xlabel('$x$');plt.ylabel('$y$')\n",
    "    MSE = sklearn.metrics.mean_squared_error(test_xx[j].reshape(-1,1),prediction)\n",
    "    plt.legend([f'$Prediction$','$RK4 \\ result$'])\n",
    "    plt.title('$Test \\ samples \\ prediction$')\n",
    "    \n",
    "    plt.subplot(2,1,2)\n",
    "    plt.yticks(np.arange(-6,12,1))\n",
    "    plt.text(0.1,8,'$correct \\  \\ \\   \\ \\ DE : {dy^2\\over dx^2} + $' + f'${b}$'  + '${dy\\over dx} + $' +f'${a} $'  + '${y} + $' +f'${c}$' '${x}  $' )\n",
    "    plt.text(0.1,4,'$predicted \\  DE : {dy^2\\over dx^2} + $' + f'${l}$'  + '${dy\\over dx} + $' +f'${k} $'  + '${y} + $' +f'${m}$' '${x}$' )\n",
    "    plt.text(0.1,0,f'$Noise= \\ $' +  f'${noise*100}$' + f'$\\%$' )\n",
    "    plt.text(0.1,-4,f'$MSE= \\ $' +  f'${np.round(MSE*10**3,3)}e-3$'  )\n",
    "    plt.yticks([]);plt.xticks([])\n",
    "    \n",
    "\n",
    "    \n",
    "    "
   ]
  },
  {
   "cell_type": "markdown",
   "metadata": {},
   "source": [
    "## Test with sympy"
   ]
  },
  {
   "cell_type": "code",
   "execution_count": 47,
   "metadata": {},
   "outputs": [
    {
     "data": {
      "text/latex": [
       "$\\displaystyle 4.4 x + 2.4 y{\\left(x \\right)} + 5.6 \\frac{d}{d x} y{\\left(x \\right)} + \\frac{d^{2}}{d x^{2}} y{\\left(x \\right)}$"
      ],
      "text/plain": [
       "4.4*x + 2.4*y(x) + 5.6*Derivative(y(x), x) + Derivative(y(x), (x, 2))"
      ]
     },
     "execution_count": 47,
     "metadata": {},
     "output_type": "execute_result"
    }
   ],
   "source": [
    "import sympy as sp\n",
    "import numpy as np\n",
    "import matplotlib.pyplot as plt\n",
    "%matplotlib inline\n",
    "x =sp.symbols('x')\n",
    "y = sp.Function('y')\n",
    "#expression of DE\n",
    "\n",
    "j = 10\n",
    "\n",
    "a,b,c = -d2_train[j][0]\n",
    "\n",
    "expr = sp.Derivative(y(x),x,x) + b*sp.Derivative(y(x),x) + a* y(x)+c*x \n",
    "expr\n",
    "# solution of DE\n",
    "sol_exact= sp.dsolve(expr, y(x),\n",
    " ics={y(0):ic_train[j][0],\n",
    " y(x).diff(x).subs(x, 0): ic_train[j][1],\n",
    " })\n",
    "sol_exact_func=sp.lambdify(x,sol_exact.rhs)\n",
    "expr"
   ]
  },
  {
   "cell_type": "code",
   "execution_count": 46,
   "metadata": {},
   "outputs": [
    {
     "data": {
      "text/plain": [
       "array([[[-2.4, -5.6, -4.4]]])"
      ]
     },
     "execution_count": 46,
     "metadata": {},
     "output_type": "execute_result"
    }
   ],
   "source": [
    "train_yy[j]"
   ]
  },
  {
   "cell_type": "code",
   "execution_count": 53,
   "metadata": {},
   "outputs": [
    {
     "data": {
      "text/plain": [
       "<matplotlib.legend.Legend at 0x12c3b867988>"
      ]
     },
     "execution_count": 53,
     "metadata": {},
     "output_type": "execute_result"
    },
    {
     "data": {
      "image/png": "[encoded data removed]",
      "text/plain": [
       "<Figure size 1080x360 with 1 Axes>"
      ]
     },
     "metadata": {
      "needs_background": "light"
     },
     "output_type": "display_data"
    }
   ],
   "source": [
    "sympy_res = [ sol_exact_func(i) for i in np.arange(0,2.5,1e-3)]\n",
    "plt.figure(figsize=(15,5))\n",
    "plt.plot(np.arange(0,2.5,1e-3),sympy_res,'-r')\n",
    "plt.plot(np.arange(0,2.5,1e-3),train_xx[j].reshape(-1,1),'--k')\n",
    "plt.legend(['$Sympy$','$RK4$'])"
   ]
  }
 ],
 "metadata": {
  "kernelspec": {
   "display_name": "Python 3",
   "language": "python",
   "name": "python3"
  },
  "language_info": {
   "codemirror_mode": {
    "name": "ipython",
    "version": 3
   },
   "file_extension": ".py",
   "mimetype": "text/x-python",
   "name": "python",
   "nbconvert_exporter": "python",
   "pygments_lexer": "ipython3",
   "version": "3.7.7"
  }
 },
 "nbformat": 4,
 "nbformat_minor": 4
}
